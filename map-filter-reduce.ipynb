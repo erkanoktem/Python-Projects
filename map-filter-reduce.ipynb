{
 "cells": [
  {
   "cell_type": "code",
   "execution_count": 2,
   "id": "d0987a84",
   "metadata": {},
   "outputs": [
    {
     "name": "stdout",
     "output_type": "stream",
     "text": [
      "[1, 4, 9, 16, 25, 36]\n"
     ]
    }
   ],
   "source": [
    "def kare(x):\n",
    "    return x*x\n",
    "liste=[1,2,3,4,5,6]\n",
    "liste2=[]\n",
    "for i in liste:\n",
    "    liste2.append(kare(i))\n",
    "print(liste2)"
   ]
  },
  {
   "cell_type": "code",
   "execution_count": 4,
   "id": "144c4e31",
   "metadata": {},
   "outputs": [
    {
     "name": "stdout",
     "output_type": "stream",
     "text": [
      "[1, 4, 9, 16, 25, 36, 49]\n"
     ]
    }
   ],
   "source": [
    "liste=[1,2,3,4,5,6,7]\n",
    "listem=list(map(kare,liste))\n",
    "print(listem)"
   ]
  },
  {
   "cell_type": "code",
   "execution_count": 6,
   "id": "1c8a9275",
   "metadata": {},
   "outputs": [
    {
     "name": "stdout",
     "output_type": "stream",
     "text": [
      "[1, 4, 16, 25, 49, 64]\n"
     ]
    }
   ],
   "source": [
    "liste=[1,2,4,5,7,8]\n",
    "listeee=list(map(lambda x:x*x,liste))\n",
    "print(listeee)"
   ]
  },
  {
   "cell_type": "code",
   "execution_count": 7,
   "id": "d2ad68ce",
   "metadata": {},
   "outputs": [
    {
     "name": "stdout",
     "output_type": "stream",
     "text": [
      "[7, 7, 4, 17, 16, 16]\n"
     ]
    }
   ],
   "source": [
    "liste1=[1,2,4,5,7,8]\n",
    "liste2=[6,5,0,12,9,8]\n",
    "def topla(x,y):\n",
    "    return x+y\n",
    "sonuc=list(map(topla,liste1,liste2))\n",
    "print(sonuc)"
   ]
  },
  {
   "cell_type": "code",
   "execution_count": 15,
   "id": "bc1808d5",
   "metadata": {},
   "outputs": [
    {
     "name": "stdout",
     "output_type": "stream",
     "text": [
      "[['pantolon', 90.0], ['gömlek', 63.0], ['kazal', 45.0]]\n"
     ]
    }
   ],
   "source": [
    "liste=[[\"pantolon\",100],[\"gömlek\",70],[\"kazal\",50]]\n",
    "for i in liste:\n",
    "    i[1]=i[1]-(10*(i[1]))/100\n",
    "print(liste)\n"
   ]
  },
  {
   "cell_type": "code",
   "execution_count": 18,
   "id": "933068ed",
   "metadata": {},
   "outputs": [
    {
     "name": "stdout",
     "output_type": "stream",
     "text": [
      "[['pantolon', 90.0], ['gömlek', 63.0], ['kazal', 45.0]]\n"
     ]
    }
   ],
   "source": [
    "liste=[[\"pantolon\",100],[\"gömlek\",70],[\"kazal\",50]]\n",
    "def indirim(x):\n",
    "    ürün,fiyat=x[0],x[1]\n",
    "    fiyat=(9/10)*fiyat\n",
    "    return [ürün,fiyat]\n",
    "sonuc=list(map(indirim,liste))\n",
    "print(sonuc)"
   ]
  },
  {
   "cell_type": "code",
   "execution_count": 22,
   "id": "f7bccd29",
   "metadata": {},
   "outputs": [
    {
     "name": "stdout",
     "output_type": "stream",
     "text": [
      "['Ahmet', 'Mehmet', 'Saffet']\n"
     ]
    }
   ],
   "source": [
    "liste=[\"ahmET\",\"MeHMet\",\"sAFFeT\"]\n",
    "liste2=list(map(lambda x:x.capitalize(),liste))\n",
    "print(liste2)"
   ]
  },
  {
   "cell_type": "code",
   "execution_count": 26,
   "id": "0374880f",
   "metadata": {},
   "outputs": [
    {
     "name": "stdout",
     "output_type": "stream",
     "text": [
      "[2, 4, 6, 34]\n"
     ]
    }
   ],
   "source": [
    "liste=[1,2,3,4,5,6,7,11,23,34,55,67]\n",
    "def tekcift(j):\n",
    "    if j%2==0:\n",
    "        return True\n",
    "    return False\n",
    "sonuc=list(filter(tekcift,liste))\n",
    "print(sonuc)"
   ]
  },
  {
   "cell_type": "code",
   "execution_count": 29,
   "id": "e19798ba",
   "metadata": {},
   "outputs": [
    {
     "name": "stdout",
     "output_type": "stream",
     "text": [
      "[2, 4, 6, 34]\n"
     ]
    }
   ],
   "source": [
    "liste=[1,2,3,4,5,6,7,11,23,34,55,67]\n",
    "sonuc=list(filter(lambda x: x%2==0,liste))\n",
    "print(sonuc)"
   ]
  },
  {
   "cell_type": "code",
   "execution_count": 32,
   "id": "3b3e96ed",
   "metadata": {},
   "outputs": [
    {
     "name": "stdout",
     "output_type": "stream",
     "text": [
      "['ana', 'ata', 'ammar']\n"
     ]
    }
   ],
   "source": [
    "liste=[\"ana\",\"baba\",\"ata\",\"erkan\",\"ammar\",\"tarkan\"]\n",
    "sonuc=list(filter(lambda x:x.startswith(\"a\"),liste))\n",
    "print(sonuc)"
   ]
  },
  {
   "cell_type": "code",
   "execution_count": 35,
   "id": "0fbaeb22",
   "metadata": {},
   "outputs": [
    {
     "name": "stdout",
     "output_type": "stream",
     "text": [
      "['ana', 'baba', 'ata', 'erkan', 'ammar', 'tarkan']\n"
     ]
    }
   ],
   "source": [
    "liste=[\"ana\",\"baba\",\"ata\",\"erkan\",\"ammar\",\"tarkan\",\"tekir\"]\n",
    "sonuc=list(filter(lambda x:\"a\" in x,liste))\n",
    "print(sonuc)"
   ]
  },
  {
   "cell_type": "code",
   "execution_count": 42,
   "id": "292b0147",
   "metadata": {},
   "outputs": [
    {
     "name": "stdout",
     "output_type": "stream",
     "text": [
      "[{'ali': 1}]\n"
     ]
    }
   ],
   "source": [
    "liste=[\"ana\",\"baba\",\"ata\",\"erkan\",5,\"tarkan\",True,(1,2,3),{\"ali\":1}]\n",
    "sonuc=list(filter(lambda x:isinstance(x,dict),liste))\n",
    "print(sonuc)\n"
   ]
  },
  {
   "cell_type": "code",
   "execution_count": 46,
   "id": "db2817ba",
   "metadata": {},
   "outputs": [
    {
     "name": "stdout",
     "output_type": "stream",
     "text": [
      "[{'Ad': 'Erkan', 'Yas': 23}]\n"
     ]
    }
   ],
   "source": [
    "liste=[{\"Ad\":\"Ahmet\",\"Yas\":12},{\"Ad\":\"Erkan\",\"Yas\":23}]\n",
    "sonuc=list(filter(lambda kisi:kisi[\"Ad\"].startswith(\"E\") and kisi[\"Yas\"]>20,liste))\n",
    "print(sonuc)\n"
   ]
  },
  {
   "cell_type": "code",
   "execution_count": 52,
   "id": "60fb6810",
   "metadata": {},
   "outputs": [
    {
     "name": "stdout",
     "output_type": "stream",
     "text": [
      "2240\n"
     ]
    }
   ],
   "source": [
    "from functools import reduce \n",
    "liste=[1,2,4,5,7,8]\n",
    "listeee=reduce(lambda x,y:x*y,liste)\n",
    "print(listeee)"
   ]
  },
  {
   "cell_type": "code",
   "execution_count": 56,
   "id": "9af17a53",
   "metadata": {},
   "outputs": [
    {
     "name": "stdout",
     "output_type": "stream",
     "text": [
      "-2\n"
     ]
    }
   ],
   "source": [
    "from functools import reduce \n",
    "liste=[-1,-2,4,5,7,8]\n",
    "listeee=reduce(min,liste)\n",
    "print(listeee)"
   ]
  },
  {
   "cell_type": "code",
   "execution_count": 57,
   "id": "8e2affe9",
   "metadata": {},
   "outputs": [
    {
     "name": "stdout",
     "output_type": "stream",
     "text": [
      "8\n"
     ]
    }
   ],
   "source": [
    "from functools import reduce \n",
    "liste=[-1,-2,4,5,7,8]\n",
    "listeee=reduce(max,liste)\n",
    "print(listeee)"
   ]
  },
  {
   "cell_type": "code",
   "execution_count": null,
   "id": "b00e3935",
   "metadata": {},
   "outputs": [],
   "source": []
  }
 ],
 "metadata": {
  "kernelspec": {
   "display_name": "Python 3",
   "language": "python",
   "name": "python3"
  },
  "language_info": {
   "codemirror_mode": {
    "name": "ipython",
    "version": 3
   },
   "file_extension": ".py",
   "mimetype": "text/x-python",
   "name": "python",
   "nbconvert_exporter": "python",
   "pygments_lexer": "ipython3",
   "version": "3.8.8"
  }
 },
 "nbformat": 4,
 "nbformat_minor": 5
}
